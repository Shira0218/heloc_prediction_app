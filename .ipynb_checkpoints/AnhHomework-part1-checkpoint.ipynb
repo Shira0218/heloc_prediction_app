{
    "cells": [
        {
            "cell_type": "markdown",
            "metadata": {
                "deletable": false,
                "editable": false,
                "nbgrader": {
                    "grade": false,
                    "grade_id": "cell-beb82d1cf0e76f0e",
                    "locked": true,
                    "schema_version": 3,
                    "solution": false,
                    "task": false
                }
            },
            "source": [
                "<h1>Homework - Part 1: Data wrangling and visualization</h1>\n",
                "<h2>Machine Learning for Business Analytics (CIS432)</h2>\n",
                "<h3>Simon Business School</h3>\n",
                "\n",
                "__Instructor__: Yaron Shaposhnik\n",
                "\n",
                "\n"
            ]
        },
        {
            "cell_type": "markdown",
            "metadata": {
                "deletable": false,
                "editable": false,
                "nbgrader": {
                    "grade": false,
                    "grade_id": "cell-bf47835b7a801cc7",
                    "locked": true,
                    "schema_version": 3,
                    "solution": false,
                    "task": false
                }
            },
            "source": [
                "## Instructions\n",
                "\n",
                "In this homework assignment, you will familiarize yourself with a dataset that we will be using throughout the course in the homework assignment. You will conduct an exploratory data analysis by\n",
                "1. loading data from a csv file into a data frame\n",
                "2. exploring and manipulating data frames and series\n",
                "3. working with numpy\n",
                "4. visualizing data"
            ]
        },
        {
            "cell_type": "markdown",
            "metadata": {
                "deletable": false,
                "editable": false,
                "nbgrader": {
                    "grade": false,
                    "grade_id": "cell-657131415ae0736c",
                    "locked": true,
                    "schema_version": 3,
                    "solution": false,
                    "task": false
                }
            },
            "source": [
                "We will work with a Home Equity Line of Credit (HELOC) Dataset (`heloc_dataset_v1.csv`, [source](https://community.fico.com/s/explainable-machine-learning-challenge?tabset-3158a=a4c37)). \n",
                "Each row in the dataset represents a customer who took a loan and the columns represent various details about the customers and whether they were late on their payments (see  `heloc_data_dictionary-2.xlsx` for more information). \n"
            ]
        },
        {
            "cell_type": "markdown",
            "metadata": {
                "deletable": false,
                "editable": false,
                "nbgrader": {
                    "grade": false,
                    "grade_id": "cell-c9473db3b6b0d741",
                    "locked": true,
                    "schema_version": 3,
                    "solution": false,
                    "task": false
                }
            },
            "source": [
                "## Answer key\n",
                "\n",
                "This assignment (as well as others) is graded by comparing your answers (that is, the variables and Python objects you create) with precomputed answers. This allows you to get immediate feedback in order to find your errors and correct them. The downside of this approach is that the grading code is strict and even slight deviations from the desired outputs could result in reduction of points. \n",
                "\n",
                "To make this learning experience more efficient, the objects that you are asked to generate are provided to you in the variable `ANSWER_KEY`. Questions may ask you to assign a value (like a number or object such as data frame) to a variable. For example, in the second question you are asked to assign the variable `n_rows` with a certain value. To view the correct answer simply run the command `ANSWER_KEY['n_rows']`. \n",
                "\n",
                "Note that the answer key is provided to you __for debugging purposes only__. Using it in your final submission or hard-coding solutions __will be considered plagiarism__ and be reported to the student disciplinary committee."
            ]
        },
        {
            "cell_type": "code",
            "execution_count": 81,
            "metadata": {
                "deletable": false,
                "editable": false,
                "nbgrader": {
                    "grade": true,
                    "grade_id": "imports",
                    "locked": true,
                    "points": 0,
                    "schema_version": 3,
                    "solution": false,
                    "task": false
                }
            },
            "outputs": [],
            "source": [
                "# you may ignore this cell\n",
                "import os\n",
                "import pandas as pd\n",
                "import numpy as np\n",
                "import matplotlib.pyplot as plt\n",
                "import pickle\n",
                "\n",
                "if os.name == 'nt':\n",
                "    ANSWER_KEY_FILE_NAME = \"answer_key(win)-part1.p\"\n",
                "elif os.name == 'posix':\n",
                "    ANSWER_KEY_FILE_NAME = \"answer_key(unix)-part1.p\"\n",
                "else:\n",
                "    raise Exception('The code was not tested on',os.name)\n",
                "\n",
                "GENERATE_ANSWER_KEY=False\n",
                "\n",
                "if GENERATE_ANSWER_KEY: \n",
                "    ANSWER_KEY = {} \n",
                "else:        \n",
                "    with open(ANSWER_KEY_FILE_NAME, \"rb\") as f:\n",
                "        ANSWER_KEY = pickle.load( f )             "
            ]
        },
        {
            "cell_type": "code",
            "execution_count": 82,
            "metadata": {
                "deletable": false,
                "editable": false,
                "nbgrader": {
                    "grade": false,
                    "grade_id": "cell-8219ebfbd84c42d7",
                    "locked": true,
                    "schema_version": 3,
                    "solution": false,
                    "task": false
                }
            },
            "outputs": [],
            "source": [
                "# example for using answer key\n",
                "if GENERATE_ANSWER_KEY==False: \n",
                "    print('this is the expected value of the variable \"n_rows\" (which you will be asked to compute)', ANSWER_KEY['n_rows'])"
            ]
        },
        {
            "cell_type": "markdown",
            "metadata": {
                "deletable": false,
                "editable": false,
                "nbgrader": {
                    "grade": false,
                    "grade_id": "cell-d0f9ba6a90035ede",
                    "locked": true,
                    "schema_version": 3,
                    "solution": false,
                    "task": false
                }
            },
            "source": [
                "# Beginning"
            ]
        },
        {
            "cell_type": "markdown",
            "metadata": {
                "deletable": false,
                "editable": false,
                "nbgrader": {
                    "grade": false,
                    "grade_id": "cell-06d70279c0598b0aa",
                    "locked": true,
                    "schema_version": 3,
                    "solution": false,
                    "task": false
                }
            },
            "source": [
                "### (q1) \n",
                "Use the command `pd.read_csv` to read the csv file `heloc_dataset_v1.csv` into the variable `df`"
            ]
        },
        {
            "cell_type": "code",
            "execution_count": 83,
            "metadata": {
                "nbgrader": {
                    "grade": false,
                    "grade_id": "q1_ans",
                    "locked": false,
                    "schema_version": 3,
                    "solution": true,
                    "task": false
                },
                "slideshow": {
                    "slide_type": ""
                },
                "tags": []
            },
            "outputs": [],
            "source": [
                "df = pd.read_csv('heloc_dataset_v1.csv')\n",
                "df.head()"
            ]
        },
        {
            "cell_type": "code",
            "execution_count": 84,
            "metadata": {
                "deletable": false,
                "editable": false,
                "nbgrader": {
                    "grade": true,
                    "grade_id": "part1-q1",
                    "locked": true,
                    "points": 1,
                    "schema_version": 3,
                    "solution": false,
                    "task": false
                },
                "slideshow": {
                    "slide_type": ""
                },
                "tags": []
            },
            "outputs": [],
            "source": [
                "### BEGIN TEST (DO NOT REMOVE CELL)\n",
                "sol = ANSWER_KEY['df']\n",
                "diff = sol.compare(df, keep_equal=False, align_axis=0)\n",
                "assert(len(diff)==0), 'testing df'\n",
                "### END TEST "
            ]
        },
        {
            "cell_type": "markdown",
            "metadata": {
                "deletable": false,
                "editable": false,
                "nbgrader": {
                    "grade": false,
                    "grade_id": "cell-06d70279c0598b0a",
                    "locked": true,
                    "schema_version": 3,
                    "solution": false,
                    "task": false
                }
            },
            "source": [
                "### (q2) \n",
                "Initialize the following variables with their corresponding values\n",
                "* `n_rows` - the number of rows in `df`\n",
                "* `n_cols` - the number of columns in `df`\n",
                "* `col_names` - the list of column names \n",
                "* `row_indexes` - the list of index values\n",
                "* `df_first3rows`- a dataframe holding only the first 3 rows of `df` (all columns)\n",
                "* `df_last3rows`- a dataframe holding only the last 3 rows of `df` (all columns)\n",
                "* `df_rows1and3`- a dataframe holding the rows whose indexes are 1 and 3 of `df` (all columns)\n",
                "* `df_cols2and4`- a dataframe holding the columns whose indexes are 2 and 4 of `df` (all rows)\n",
                "* `series_customer5` - a series holding information about the customer in the row whose index is 5 (i.e., the 6th row; recall that each row holds information about a customer)\n",
                "* `df_first3rowsAndCols` - a dataframe holding only the first 3 rows and first 3 columns of `df`"
            ]
        },
        {
            "cell_type": "code",
            "execution_count": 85,
            "metadata": {
                "nbgrader": {
                    "grade": false,
                    "grade_id": "q2_ans",
                    "locked": false,
                    "schema_version": 3,
                    "solution": true,
                    "task": false
                }
            },
            "outputs": [],
            "source": [
                "n_rows = df.shape[0]\n",
                "n_cols = df.shape[1]\n",
                "col_names = df.columns.tolist()\n",
                "row_indexes = df.index.tolist()\n",
                "df_first3rows = df.head(3)\n",
                "df_last3rows = df.tail(3)\n",
                "df_rows1and3 = df.iloc[[1,3]]\n",
                "df_cols2and4 = df.iloc[:,[2,4]]\n",
                "series_customer5 = df.iloc[5]\n",
                "df_first3rowsAndCols = df.iloc[:3,:3]\n"
            ]
        },
        {
            "cell_type": "code",
            "execution_count": 86,
            "metadata": {
                "nbgrader": {
                    "grade": false,
                    "grade_id": "q2_ans",
                    "locked": false,
                    "schema_version": 3,
                    "solution": true,
                    "task": false
                }
            },
            "outputs": [],
            "source": [
                "print('The number of rows in df:',n_rows)\n",
                "print('The number of columns in df:', n_cols)\n",
                "print('The list of column names in df:', col_names,'\\n')\n",
                "print('The customer in the row whose index is 5:', series_customer5)"
            ]
        },
        {
            "cell_type": "code",
            "execution_count": 87,
            "metadata": {},
            "outputs": [],
            "source": [
                "ANSWER_KEY['df_first3rowsAndCols']"
            ]
        },
        {
            "cell_type": "code",
            "execution_count": 88,
            "metadata": {
                "deletable": false,
                "editable": false,
                "nbgrader": {
                    "grade": true,
                    "grade_id": "part1-q2a",
                    "locked": true,
                    "points": 1,
                    "schema_version": 3,
                    "solution": false,
                    "task": false
                }
            },
            "outputs": [],
            "source": [
                "### BEGIN TEST (DO NOT REMOVE CELL)\n",
                "sol = ANSWER_KEY['n_rows']\n",
                "assert(n_rows == sol), 'testing n_rows'\n",
                "### END TEST "
            ]
        },
        {
            "cell_type": "code",
            "execution_count": 89,
            "metadata": {
                "deletable": false,
                "editable": false,
                "nbgrader": {
                    "grade": true,
                    "grade_id": "part1-q2b",
                    "locked": true,
                    "points": 1,
                    "schema_version": 3,
                    "solution": false,
                    "task": false
                }
            },
            "outputs": [],
            "source": [
                "### BEGIN TEST (DO NOT REMOVE CELL)\n",
                "sol = ANSWER_KEY['n_cols']\n",
                "assert(n_cols == sol), 'testing n_cols'\n",
                "### END TEST "
            ]
        },
        {
            "cell_type": "code",
            "execution_count": 90,
            "metadata": {
                "deletable": false,
                "editable": false,
                "nbgrader": {
                    "grade": true,
                    "grade_id": "part1-q2c",
                    "locked": true,
                    "points": 1,
                    "schema_version": 3,
                    "solution": false,
                    "task": false
                }
            },
            "outputs": [],
            "source": [
                "### BEGIN TEST (DO NOT REMOVE CELL)\n",
                "sol = ANSWER_KEY['col_names']\n",
                "assert(list(col_names) == list(sol)), 'testing col_names'\n",
                "### END TEST "
            ]
        },
        {
            "cell_type": "code",
            "execution_count": 91,
            "metadata": {
                "deletable": false,
                "editable": false,
                "nbgrader": {
                    "grade": true,
                    "grade_id": "part1-q2d",
                    "locked": true,
                    "points": 1,
                    "schema_version": 3,
                    "solution": false,
                    "task": false
                }
            },
            "outputs": [],
            "source": [
                "### BEGIN TEST (DO NOT REMOVE CELL)\n",
                "sol = ANSWER_KEY['row_indexes']\n",
                "assert(list(row_indexes) == list(sol)), 'testing row_indexes'\n",
                "### END TEST "
            ]
        },
        {
            "cell_type": "code",
            "execution_count": 92,
            "metadata": {
                "deletable": false,
                "editable": false,
                "nbgrader": {
                    "grade": true,
                    "grade_id": "part1-q2e",
                    "locked": true,
                    "points": 1,
                    "schema_version": 3,
                    "solution": false,
                    "task": false
                }
            },
            "outputs": [],
            "source": [
                "### BEGIN TEST (DO NOT REMOVE CELL)\n",
                "sol = ANSWER_KEY['df_first3rows']\n",
                "diff = sol.compare(df_first3rows, keep_equal=False, align_axis=0)\n",
                "assert(len(diff)==0), 'testing df_first3rows'\n",
                "### END TEST "
            ]
        },
        {
            "cell_type": "code",
            "execution_count": 93,
            "metadata": {
                "deletable": false,
                "editable": false,
                "nbgrader": {
                    "grade": true,
                    "grade_id": "part1-q2f",
                    "locked": true,
                    "points": 1,
                    "schema_version": 3,
                    "solution": false,
                    "task": false
                }
            },
            "outputs": [],
            "source": [
                "### BEGIN TEST (DO NOT REMOVE CELL)\n",
                "sol = ANSWER_KEY['df_last3rows']\n",
                "diff = sol.compare(df_last3rows, keep_equal=False, align_axis=0)\n",
                "assert(len(diff)==0), 'testing df_last3rows'\n",
                "### END TEST "
            ]
        },
        {
            "cell_type": "code",
            "execution_count": 94,
            "metadata": {
                "deletable": false,
                "editable": false,
                "nbgrader": {
                    "grade": true,
                    "grade_id": "part1-q2g",
                    "locked": true,
                    "points": 1,
                    "schema_version": 3,
                    "solution": false,
                    "task": false
                }
            },
            "outputs": [],
            "source": [
                "### BEGIN TEST (DO NOT REMOVE CELL)\n",
                "sol = ANSWER_KEY['df_rows1and3']\n",
                "diff = sol.compare(df_rows1and3, keep_equal=False, align_axis=0)\n",
                "assert(len(diff)==0), 'testing df_rows1and3'\n",
                "### END TEST "
            ]
        },
        {
            "cell_type": "code",
            "execution_count": 95,
            "metadata": {
                "deletable": false,
                "editable": false,
                "nbgrader": {
                    "grade": true,
                    "grade_id": "part1-q2h",
                    "locked": true,
                    "points": 1,
                    "schema_version": 3,
                    "solution": false,
                    "task": false
                }
            },
            "outputs": [],
            "source": [
                "### BEGIN TEST (DO NOT REMOVE CELL)\n",
                "sol = ANSWER_KEY['df_cols2and4']\n",
                "diff = sol.compare(df_cols2and4, keep_equal=False, align_axis=0)\n",
                "assert(len(diff)==0), 'testing df_cols2and4'\n",
                "### END TEST "
            ]
        },
        {
            "cell_type": "code",
            "execution_count": 96,
            "metadata": {
                "deletable": false,
                "editable": false,
                "nbgrader": {
                    "grade": true,
                    "grade_id": "part1-q2i",
                    "locked": true,
                    "points": 1,
                    "schema_version": 3,
                    "solution": false,
                    "task": false
                }
            },
            "outputs": [],
            "source": [
                "### BEGIN TEST (DO NOT REMOVE CELL)\n",
                "sol = ANSWER_KEY['series_customer5']\n",
                "diff = sol.compare(series_customer5, keep_equal=False, align_axis=0)\n",
                "assert(len(diff)==0), 'testing series_customer5'\n",
                "### END TEST "
            ]
        },
        {
            "cell_type": "code",
            "execution_count": 97,
            "metadata": {
                "deletable": false,
                "editable": false,
                "nbgrader": {
                    "grade": true,
                    "grade_id": "part1-q2j",
                    "locked": true,
                    "points": 1,
                    "schema_version": 3,
                    "solution": false,
                    "task": false
                }
            },
            "outputs": [],
            "source": [
                "### BEGIN TEST (DO NOT REMOVE CELL)\n",
                "sol = ANSWER_KEY['df_first3rowsAndCols']\n",
                "diff = sol.compare(df_first3rowsAndCols, keep_equal=False, align_axis=0)\n",
                "assert(len(diff)==0), 'testing df_first3rowsAndCols'\n",
                "### END TEST "
            ]
        },
        {
            "cell_type": "markdown",
            "metadata": {
                "deletable": false,
                "editable": false,
                "nbgrader": {
                    "grade": false,
                    "grade_id": "cell-34938a7abea09f2d",
                    "locked": true,
                    "schema_version": 3,
                    "solution": false,
                    "task": false
                }
            },
            "source": [
                "Let's print some of these values to get a sense for how our data look like"
            ]
        },
        {
            "cell_type": "code",
            "execution_count": 98,
            "metadata": {
                "deletable": false,
                "editable": false,
                "nbgrader": {
                    "grade": false,
                    "grade_id": "cell-648aea9210ecc6f8",
                    "locked": true,
                    "schema_version": 3,
                    "solution": false,
                    "task": false
                }
            },
            "outputs": [],
            "source": [
                "print('Number of rows:', ANSWER_KEY['n_rows'])\n",
                "print('Number of columns:', ANSWER_KEY['n_cols'])\n",
                "print('Column names', ANSWER_KEY['col_names'],'\\n')\n",
                "print('Example of a customer #5\\n', ANSWER_KEY['series_customer5'],'\\n')\n",
                "print('First 3 rows')\n",
                "ANSWER_KEY['df_first3rows']"
            ]
        },
        {
            "cell_type": "markdown",
            "metadata": {
                "deletable": false,
                "editable": false,
                "nbgrader": {
                    "grade": false,
                    "grade_id": "cell-6910ba61e5312f16",
                    "locked": true,
                    "schema_version": 3,
                    "solution": false,
                    "task": false
                }
            },
            "source": [
                "### (q3)\n",
                "Let's see if the file contains any missing values. \n",
                "\n",
                "The function `.isnull()` can be applied to dataframes (and series) to return a dataframe (series) of similar dimensions with boolean values indicating whether the corresponding values are missing. \n",
                "\n",
                "For example, in the next command, we apply the function `isnull()` to the variable `df_first3rowsAndCols` (which you computed in the previous question) to see if values are missing."
            ]
        },
        {
            "cell_type": "code",
            "execution_count": 99,
            "metadata": {
                "deletable": false,
                "editable": false,
                "nbgrader": {
                    "grade": false,
                    "grade_id": "cell-01eb66df1f6e374d",
                    "locked": true,
                    "schema_version": 3,
                    "solution": false,
                    "task": false
                }
            },
            "outputs": [],
            "source": [
                "df_first3rowsAndCols.isnull()"
            ]
        },
        {
            "cell_type": "markdown",
            "metadata": {
                "deletable": false,
                "editable": false,
                "nbgrader": {
                    "grade": false,
                    "grade_id": "cell-a3fab9f7008c0651",
                    "locked": true,
                    "schema_version": 3,
                    "solution": false,
                    "task": false
                }
            },
            "source": [
                "We observe that none of the values are missing.\n",
                "\n",
                "We can further apply to the dataframe the function `.any()` to aggregate this information by columns or rows. That is, to find out if some value is missing in a row or a column. "
            ]
        },
        {
            "cell_type": "code",
            "execution_count": 100,
            "metadata": {
                "deletable": false,
                "editable": false,
                "nbgrader": {
                    "grade": false,
                    "grade_id": "cell-308779ae7eb8212b",
                    "locked": true,
                    "schema_version": 3,
                    "solution": false,
                    "task": false
                }
            },
            "outputs": [],
            "source": [
                "df_first3rowsAndCols.isnull().any(axis=0) # is a value missing in one of the columns? (no)"
            ]
        },
        {
            "cell_type": "code",
            "execution_count": 101,
            "metadata": {
                "deletable": false,
                "editable": false,
                "nbgrader": {
                    "grade": false,
                    "grade_id": "cell-36c24a325ae93b93",
                    "locked": true,
                    "schema_version": 3,
                    "solution": false,
                    "task": false
                }
            },
            "outputs": [],
            "source": [
                "df_first3rowsAndCols.isnull().any(axis=1) # is a value missing in one of the rows? (no)"
            ]
        },
        {
            "cell_type": "markdown",
            "metadata": {
                "deletable": false,
                "editable": false,
                "nbgrader": {
                    "grade": false,
                    "grade_id": "cell-953e3143fc5670a7",
                    "locked": true,
                    "schema_version": 3,
                    "solution": false,
                    "task": false
                }
            },
            "source": [
                "### (q3a) \n",
                "Initialize the variables `n_cols_with_missing_values` and `n_rows_with_missing_ExternalRiskEstimate_values` to respectively count the number of columns and rows with missing values."
            ]
        },
        {
            "cell_type": "code",
            "execution_count": 102,
            "metadata": {
                "nbgrader": {
                    "grade": false,
                    "grade_id": "q3a_sol",
                    "locked": false,
                    "schema_version": 3,
                    "solution": true,
                    "task": false
                },
                "scrolled": true
            },
            "outputs": [],
            "source": [
                "n_cols_with_missing_values = df.isnull().any(axis=0).sum()\n",
                "\n",
                "n_rows_with_missing_ExternalRiskEstimate_values = df['ExternalRiskEstimate'].isnull().sum()\n",
                "\n",
                "print(n_cols_with_missing_values)\n",
                "print(n_rows_with_missing_ExternalRiskEstimate_values)"
            ]
        },
        {
            "cell_type": "code",
            "execution_count": 103,
            "metadata": {
                "deletable": false,
                "editable": false,
                "nbgrader": {
                    "grade": true,
                    "grade_id": "part1-q3a",
                    "locked": true,
                    "points": 1,
                    "schema_version": 3,
                    "solution": false,
                    "task": false
                }
            },
            "outputs": [],
            "source": [
                "### BEGIN TEST (DO NOT REMOVE CELL)\n",
                "assert(n_cols_with_missing_values==0), 'testing n_cols_with_missing_values'\n",
                "assert(n_rows_with_missing_ExternalRiskEstimate_values==0), 'testing n_rows_with_missing_ExternalRiskEstimate_values'\n",
                "### END TEST "
            ]
        },
        {
            "cell_type": "code",
            "execution_count": 104,
            "metadata": {
                "deletable": false,
                "editable": false,
                "nbgrader": {
                    "grade": false,
                    "grade_id": "cell-896125c698501385",
                    "locked": true,
                    "schema_version": 3,
                    "solution": false,
                    "task": false
                }
            },
            "outputs": [],
            "source": [
                "print('n_cols_with_missing_values', ANSWER_KEY['n_cols_with_missing_values'])\n",
                "print('n_rows_with_missing_ExternalRiskEstimate_values', ANSWER_KEY['n_rows_with_missing_ExternalRiskEstimate_values'])"
            ]
        },
        {
            "cell_type": "markdown",
            "metadata": {
                "deletable": false,
                "editable": false,
                "nbgrader": {
                    "grade": false,
                    "grade_id": "cell-f6a598cf702d21a5",
                    "locked": true,
                    "schema_version": 3,
                    "solution": false,
                    "task": false
                }
            },
            "source": [
                "According to isnull there are no missing values. "
            ]
        },
        {
            "cell_type": "markdown",
            "metadata": {
                "deletable": false,
                "editable": false,
                "nbgrader": {
                    "grade": false,
                    "grade_id": "cell-6a3b1eea534efbef",
                    "locked": true,
                    "schema_version": 3,
                    "solution": false,
                    "task": false
                }
            },
            "source": [
                "An alternative way to extract this information is using the dataframe function `.info()` as follows:"
            ]
        },
        {
            "cell_type": "code",
            "execution_count": 105,
            "metadata": {
                "deletable": false,
                "editable": false,
                "nbgrader": {
                    "grade": false,
                    "grade_id": "cell-e543ad526baed272",
                    "locked": true,
                    "schema_version": 3,
                    "solution": false,
                    "task": false
                }
            },
            "outputs": [],
            "source": [
                "df.info()"
            ]
        },
        {
            "cell_type": "markdown",
            "metadata": {
                "deletable": false,
                "editable": false,
                "nbgrader": {
                    "grade": false,
                    "grade_id": "cell-85cc88c696789caa",
                    "locked": true,
                    "schema_version": 3,
                    "solution": false,
                    "task": false
                }
            },
            "source": [
                "It seems that there are 10459 rows in our dataset and none of the columns contain null values. "
            ]
        },
        {
            "cell_type": "markdown",
            "metadata": {
                "deletable": false,
                "editable": false,
                "nbgrader": {
                    "grade": false,
                    "grade_id": "cell-114f97e614ed9238",
                    "locked": true,
                    "schema_version": 3,
                    "solution": false,
                    "task": false
                }
            },
            "source": [
                "### (q3b)\n",
                "\n",
                "Initialize the variables `cols_numeric` and `cols_string` to respectively hold the column names of the columns holding numeric and string values. Use the variable `col_names` which you initialized before and maintain the same order of columns."
            ]
        },
        {
            "cell_type": "code",
            "execution_count": 106,
            "metadata": {
                "nbgrader": {
                    "grade": false,
                    "grade_id": "cell-cf0d1ea9363ee92c",
                    "locked": false,
                    "schema_version": 3,
                    "solution": true,
                    "task": false
                }
            },
            "outputs": [],
            "source": [
                "cols_numeric = [cols for cols in col_names if df[cols].dtype in ['int64', 'float64']]\n",
                "cols_string = [cols for cols in col_names if df[cols].dtype == 'object']\n",
                "###\n",
                "### YOUR CODE HERE\n",
                "###\n"
            ]
        },
        {
            "cell_type": "code",
            "execution_count": 107,
            "metadata": {
                "deletable": false,
                "editable": false,
                "nbgrader": {
                    "grade": true,
                    "grade_id": "part1-q3b",
                    "locked": true,
                    "points": 1,
                    "schema_version": 3,
                    "solution": false,
                    "task": false
                }
            },
            "outputs": [],
            "source": [
                "### BEGIN TEST (DO NOT REMOVE CELL)\n",
                "sol = ANSWER_KEY['cols_string']\n",
                "assert(list(cols_string) == list(sol)), 'testing cols_string'\n",
                "\n",
                "sol = ANSWER_KEY['cols_numeric']\n",
                "assert(list(cols_numeric) == list(sol)), 'testing cols_numeric'\n",
                "### END TEST "
            ]
        },
        {
            "cell_type": "code",
            "execution_count": 108,
            "metadata": {
                "deletable": false,
                "editable": false,
                "nbgrader": {
                    "grade": false,
                    "grade_id": "cell-ae0cce1f8786c09d",
                    "locked": true,
                    "schema_version": 3,
                    "solution": false,
                    "task": false
                }
            },
            "outputs": [],
            "source": [
                "print('cols_numeric:', ANSWER_KEY['cols_numeric'],'\\n')\n",
                "print('cols_string:', ANSWER_KEY['cols_string'])"
            ]
        },
        {
            "cell_type": "markdown",
            "metadata": {
                "deletable": false,
                "editable": false,
                "nbgrader": {
                    "grade": false,
                    "grade_id": "cell-809e762d9a7de560",
                    "locked": true,
                    "schema_version": 3,
                    "solution": false,
                    "task": false
                }
            },
            "source": [
                "Let's explore the values of the different columns. Run the following command to plot a histogram of the values in each column."
            ]
        },
        {
            "cell_type": "code",
            "execution_count": 109,
            "metadata": {
                "deletable": false,
                "editable": false,
                "nbgrader": {
                    "grade": false,
                    "grade_id": "cell-630cff0a14c03fa1",
                    "locked": true,
                    "schema_version": 3,
                    "solution": false,
                    "task": false
                }
            },
            "outputs": [],
            "source": [
                "df.hist(figsize=(15,15));"
            ]
        },
        {
            "cell_type": "markdown",
            "metadata": {
                "deletable": false,
                "editable": false,
                "nbgrader": {
                    "grade": false,
                    "grade_id": "cell-09ec6d72c11cd40c",
                    "locked": true,
                    "schema_version": 3,
                    "solution": false,
                    "task": false
                }
            },
            "source": [
                "Let's zoom into the first column ExternalRiskEstimate:"
            ]
        },
        {
            "cell_type": "code",
            "execution_count": 110,
            "metadata": {
                "deletable": false,
                "editable": false,
                "nbgrader": {
                    "grade": false,
                    "grade_id": "cell-c6621c91cbcf8f4d",
                    "locked": true,
                    "schema_version": 3,
                    "solution": false,
                    "task": false
                }
            },
            "outputs": [],
            "source": [
                "df['ExternalRiskEstimate'].hist(figsize=(15,5), bins=50); # reflect about the syntax of this command"
            ]
        },
        {
            "cell_type": "markdown",
            "metadata": {
                "deletable": false,
                "editable": false,
                "nbgrader": {
                    "grade": false,
                    "grade_id": "cell-e25132a156167dce",
                    "locked": true,
                    "schema_version": 3,
                    "solution": false,
                    "task": false
                }
            },
            "source": [
                "It appears that values mostly vary between 30-90, and there is some accumulation of negative values. \n",
                "\n",
                "According to the documentation of the data (available in the Excel file `heloc_data_dictionary-2.xlsx`), the column ExternalRiskEstimate refers to the \"Consolidated version of risk markers.\" \n",
                "\n",
                "The file also indicates that 3 special values are used to encode missing values: -7,-8, and -9. \n",
                "\n",
                "Let's look at some of the rows that contain missing values.\n"
            ]
        },
        {
            "cell_type": "markdown",
            "metadata": {
                "deletable": false,
                "editable": false,
                "nbgrader": {
                    "grade": false,
                    "grade_id": "cell-90f74a922e0bfd76",
                    "locked": true,
                    "schema_version": 3,
                    "solution": false,
                    "task": false
                }
            },
            "source": [
                "### (q3c)\n",
                "\n",
                "1. Create the dataframe `df_missing_ExternalRiskEstimate` which only holds rows of `df` where values under the column ExternalRiskEstimate are missing (that is, equal to -9).\n",
                "2. Set the variable `n_rows_with_missing_ExternalRiskEstimate` to hold the total number of rows in `df_missing_ExternalRiskEstimate`. \n",
                "3. Set the variable `n_rows_all_numeric_missing` to hold the total number of rows in `df_missing_ExternalRiskEstimate` where all numeric values are missing.\n",
                "4. Create the dataframe `df_without_missing_rows` to hold the rows of `df` where __not__ all numeric values are missing. (you should create a dataframe with almost the same number of rows as in `df`)\n",
                "\n",
                "__Note: From this point onwards we will use `df_without_missing_rows` instead of `df`.__"
            ]
        },
        {
            "cell_type": "code",
            "execution_count": 111,
            "metadata": {
                "nbgrader": {
                    "grade": false,
                    "grade_id": "cell-7f74db62cbfa9b0c",
                    "locked": false,
                    "schema_version": 3,
                    "solution": true,
                    "task": false
                }
            },
            "outputs": [],
            "source": [
                "df_missing_ExternalRiskEstimate = df[df['ExternalRiskEstimate'] == -9]\n",
                "n_rows_with_missing_ExternalRiskEstimate = df_missing_ExternalRiskEstimate.shape[0]\n",
                "n_rows_all_numeric_missing = (df_missing_ExternalRiskEstimate[cols_numeric] == -9).all(axis=1).sum()\n",
                "df_without_missing_rows = df[~(df[cols_numeric] == -9).all(axis=1)].copy()\n",
                "\n",
                "###\n",
                "### YOUR CODE HERE\n",
                "###\n"
            ]
        },
        {
            "cell_type": "code",
            "execution_count": 112,
            "metadata": {
                "deletable": false,
                "editable": false,
                "nbgrader": {
                    "grade": true,
                    "grade_id": "part1-q3c1",
                    "locked": true,
                    "points": 1,
                    "schema_version": 3,
                    "solution": false,
                    "task": false
                }
            },
            "outputs": [],
            "source": [
                "### BEGIN TEST (DO NOT REMOVE CELL)\n",
                "sol = ANSWER_KEY['df_missing_ExternalRiskEstimate']\n",
                "diff = sol.compare(df_missing_ExternalRiskEstimate, keep_equal=False, align_axis=0)\n",
                "assert(len(diff)==0), 'testing df_missing_ExternalRiskEstimate'\n",
                "### END TEST "
            ]
        },
        {
            "cell_type": "code",
            "execution_count": 113,
            "metadata": {
                "deletable": false,
                "editable": false,
                "nbgrader": {
                    "grade": true,
                    "grade_id": "part1-q3c2",
                    "locked": true,
                    "points": 1,
                    "schema_version": 3,
                    "solution": false,
                    "task": false
                }
            },
            "outputs": [],
            "source": [
                "### BEGIN TEST (DO NOT REMOVE CELL)\n",
                "sol = ANSWER_KEY['n_rows_with_missing_ExternalRiskEstimate']\n",
                "assert(n_rows_with_missing_ExternalRiskEstimate == sol), 'testing n_rows_with_missing_ExternalRiskEstimate'\n",
                "### END TEST "
            ]
        },
        {
            "cell_type": "code",
            "execution_count": 114,
            "metadata": {
                "deletable": false,
                "editable": false,
                "nbgrader": {
                    "grade": true,
                    "grade_id": "part1-q3c3",
                    "locked": true,
                    "points": 1,
                    "schema_version": 3,
                    "solution": false,
                    "task": false
                }
            },
            "outputs": [],
            "source": [
                "### BEGIN TEST (DO NOT REMOVE CELL)\n",
                "sol = ANSWER_KEY['n_rows_all_numeric_missing']\n",
                "assert(n_rows_all_numeric_missing == sol), 'testing n_rows_all_numeric_missing'\n",
                "### END TEST "
            ]
        },
        {
            "cell_type": "code",
            "execution_count": 115,
            "metadata": {
                "deletable": false,
                "editable": false,
                "nbgrader": {
                    "grade": true,
                    "grade_id": "part1-q3c4",
                    "locked": true,
                    "points": 1,
                    "schema_version": 3,
                    "solution": false,
                    "task": false
                }
            },
            "outputs": [],
            "source": [
                "### BEGIN TEST (DO NOT REMOVE CELL)\n",
                "sol = ANSWER_KEY['df_without_missing_rows']\n",
                "diff = sol.compare(df_without_missing_rows, keep_equal=False, align_axis=0)\n",
                "assert(len(diff)==0), 'testing df_without_missing_rows'\n",
                "### END TEST "
            ]
        },
        {
            "cell_type": "code",
            "execution_count": 116,
            "metadata": {
                "deletable": false,
                "editable": false,
                "nbgrader": {
                    "grade": false,
                    "grade_id": "cell-16f2fcedc007cf33",
                    "locked": true,
                    "schema_version": 3,
                    "solution": false,
                    "task": false
                }
            },
            "outputs": [],
            "source": [
                "print('n_rows_with_missing_ExternalRiskEstimate:', ANSWER_KEY['n_rows_with_missing_ExternalRiskEstimate'])\n",
                "print('n_rows_all_numeric_missing:', ANSWER_KEY['n_rows_all_numeric_missing'])"
            ]
        },
        {
            "cell_type": "markdown",
            "metadata": {
                "deletable": false,
                "editable": false,
                "nbgrader": {
                    "grade": false,
                    "grade_id": "cell-8c6ce06cd35f6388",
                    "locked": true,
                    "schema_version": 3,
                    "solution": false,
                    "task": false
                }
            },
            "source": [
                "We see that in 598 rows the value in column ExternalRiskEstimate is missing, and in 588 of these rows all of the numeric values are missing.  \n",
                "\n",
                "In the data frame `df_without_missing_rows` we remove the 588 rows where all numeric values are missing."
            ]
        },
        {
            "cell_type": "markdown",
            "metadata": {
                "deletable": false,
                "editable": false,
                "nbgrader": {
                    "grade": false,
                    "grade_id": "cell-7091fb819b616fb3",
                    "locked": true,
                    "schema_version": 3,
                    "solution": false,
                    "task": false
                }
            },
            "source": [
                "### (q3d) \n",
                "Count the number of times the values -7,-8, and -9 appear in each columns. More specifically, set the variable `df_count_missing` to a data frame where rows correspond to column names, there are three columns for the values -7,-8,-9, and the integral values in the data frame count the number of times a certain missing value appear in each column. To this end, \n",
                "1. Compare the data frame to -7 and sum the values under each column. This should return a series which you should call `s_minus_7`.\n",
                "2. Repeat step 1 to create two more series corresponding to the values -8 and -9, and merge the 3 series to a data frame which you should call `df_count_missing`. Hint: you may use the command concat and later change the column names to -7,-8, and -9. Print the data frame to screen."
            ]
        },
        {
            "cell_type": "code",
            "execution_count": 117,
            "metadata": {
                "nbgrader": {
                    "grade": false,
                    "grade_id": "cell-c5d7bebadebc9cef",
                    "locked": false,
                    "schema_version": 3,
                    "solution": true,
                    "task": false
                }
            },
            "outputs": [],
            "source": [
                "s_minus_7 = (df_without_missing_rows == -7).sum()\n",
                "s_minus_8 = (df_without_missing_rows == -8).sum()\n",
                "s_minus_9 = (df_without_missing_rows == -9).sum()\n"
            ]
        },
        {
            "cell_type": "code",
            "execution_count": 118,
            "metadata": {
                "deletable": false,
                "editable": false,
                "nbgrader": {
                    "grade": true,
                    "grade_id": "part1-q3d1",
                    "locked": true,
                    "points": 1,
                    "schema_version": 3,
                    "solution": false,
                    "task": false
                }
            },
            "outputs": [],
            "source": [
                "### BEGIN TEST (DO NOT REMOVE CELL)\n",
                "sol = ANSWER_KEY['s_minus_7']\n",
                "diff = sol.compare(s_minus_7, keep_equal=False, align_axis=0)\n",
                "assert(len(diff)==0), 'testing s_minus_7'\n",
                "### END TEST "
            ]
        },
        {
            "cell_type": "code",
            "execution_count": 125,
            "metadata": {
                "nbgrader": {
                    "grade": false,
                    "grade_id": "cell-c5d7bebadebc9cex",
                    "locked": false,
                    "schema_version": 3,
                    "solution": true,
                    "task": false
                }
            },
            "outputs": [],
            "source": [
                "df_count_missing = pd.concat([s_minus_7, s_minus_8, s_minus_9], axis=1)\n",
                "df_count_missing.columns = [-7,-8,-9]\n",
                "df_count_missing"
            ]
        },
        {
            "cell_type": "code",
            "execution_count": 122,
            "metadata": {
                "deletable": false,
                "editable": false,
                "nbgrader": {
                    "grade": true,
                    "grade_id": "part1-q3d2",
                    "locked": true,
                    "points": 1,
                    "schema_version": 3,
                    "solution": false,
                    "task": false
                }
            },
            "outputs": [],
            "source": [
                "### BEGIN TEST (DO NOT REMOVE CELL)\n",
                "sol = ANSWER_KEY['df_count_missing']\n",
                "diff = sol.compare(df_count_missing, keep_equal=False, align_axis=0)\n",
                "assert(len(diff)==0), 'testing df_count_missing'\n",
                "### END TEST "
            ]
        },
        {
            "cell_type": "markdown",
            "metadata": {
                "deletable": false,
                "editable": false,
                "nbgrader": {
                    "grade": false,
                    "grade_id": "cell-f41c6ea7fccf4fb7",
                    "locked": true,
                    "schema_version": 3,
                    "solution": false,
                    "task": false
                }
            },
            "source": [
                "Let's look at the result."
            ]
        },
        {
            "cell_type": "code",
            "execution_count": 123,
            "metadata": {
                "deletable": false,
                "editable": false,
                "nbgrader": {
                    "grade": false,
                    "grade_id": "cell-a2913e5a0c31045a",
                    "locked": true,
                    "schema_version": 3,
                    "solution": false,
                    "task": false
                }
            },
            "outputs": [],
            "source": [
                "ANSWER_KEY['df_count_missing']"
            ]
        },
        {
            "cell_type": "markdown",
            "metadata": {
                "deletable": false,
                "editable": false,
                "nbgrader": {
                    "grade": false,
                    "grade_id": "cell-89c18bc151740b69",
                    "locked": true,
                    "schema_version": 3,
                    "solution": false,
                    "task": false
                }
            },
            "source": [
                "We see that there are still many missing values. These are not necessarily indicative of a problem. For example, a value of -7 could indicate that there were no delinquencies (delays in payments) and therefore the value under the column MSinceMostRecentDelq could not be computed. The question of how to handle this remains and we will address it in later assignments. For now, let's further explore rows and columns with missing values.\n",
                "\n",
                "Create a series based on the data frame `df_without_missing_rows` that indicates for each row if it contains a missing value (-7,-8,-9). "
            ]
        },
        {
            "cell_type": "code",
            "execution_count": 130,
            "metadata": {
                "deletable": false,
                "editable": false,
                "nbgrader": {
                    "grade": false,
                    "grade_id": "cell-b984f7854d5ef478",
                    "locked": true,
                    "schema_version": 3,
                    "solution": false,
                    "task": false
                }
            },
            "outputs": [],
            "source": [
                "# hint: you may use the OR operator \"|\"  between two series to check if at least one value is equal to True\n",
                "s1 = pd.Series([True,True,False,False])\n",
                "s2 = pd.Series([True,False,True,False])\n",
                "s1|s2"
            ]
        },
        {
            "cell_type": "code",
            "execution_count": 131,
            "metadata": {
                "nbgrader": {
                    "grade": false,
                    "grade_id": "cell-c5d7bebadebc9cey",
                    "locked": false,
                    "schema_version": 3,
                    "solution": true,
                    "task": false
                }
            },
            "outputs": [],
            "source": [
                "s_some_values_are_missing = df_without_missing_rows.isin([-7,-8,-9]).any(axis=1)\n",
                "###\n",
                "### YOUR CODE HERE\n",
                "###\n"
            ]
        },
        {
            "cell_type": "code",
            "execution_count": 132,
            "metadata": {
                "deletable": false,
                "editable": false,
                "nbgrader": {
                    "grade": true,
                    "grade_id": "part1-q3d3",
                    "locked": true,
                    "points": 1,
                    "schema_version": 3,
                    "solution": false,
                    "task": false
                }
            },
            "outputs": [],
            "source": [
                "### BEGIN TEST (DO NOT REMOVE CELL)\n",
                "sol = ANSWER_KEY['s_some_values_are_missing']\n",
                "diff = sol.compare(s_some_values_are_missing, keep_equal=False, align_axis=0)\n",
                "assert(len(diff)==0), 'testing s_some_values_are_missing'\n",
                "### END TEST "
            ]
        },
        {
            "cell_type": "code",
            "execution_count": 133,
            "metadata": {
                "deletable": false,
                "editable": false,
                "nbgrader": {
                    "grade": false,
                    "grade_id": "cell-ecf84489308f7c88",
                    "locked": true,
                    "schema_version": 3,
                    "solution": false,
                    "task": false
                }
            },
            "outputs": [],
            "source": [
                "print('Number of rows with some missing values:', sum(ANSWER_KEY['s_some_values_are_missing']))\n",
                "print('The total number of non empty rows:', len(df_without_missing_rows))"
            ]
        },
        {
            "cell_type": "markdown",
            "metadata": {
                "deletable": false,
                "editable": false,
                "nbgrader": {
                    "grade": false,
                    "grade_id": "cell-5e703051b52c0ab5",
                    "locked": true,
                    "schema_version": 3,
                    "solution": false,
                    "task": false
                }
            },
            "source": [
                "The key takeaway here is that we need to be cautious about missing data. For every dataset we're working on, we need to understand: \n",
                "* how are missing values encoded?  (in this case -7,-8,-9)\n",
                "* what is the reason for the missing data? \n",
                "* should we expect the same behavior when working with new data points? \n",
                "\n",
                "Answering these questions is a prerequisite not only for creating a meaningful predictive model, but also for extracting insights from the data."
            ]
        },
        {
            "cell_type": "markdown",
            "metadata": {
                "deletable": false,
                "editable": false,
                "nbgrader": {
                    "grade": false,
                    "grade_id": "cell-756b3eccc379b807",
                    "locked": true,
                    "schema_version": 3,
                    "solution": false,
                    "task": false
                }
            },
            "source": [
                "Beyond missing values, looking at the distribution of values across each feature could help us identify outliers, which may also require some treatment."
            ]
        },
        {
            "cell_type": "code",
            "execution_count": 134,
            "metadata": {
                "deletable": false,
                "editable": false,
                "nbgrader": {
                    "grade": false,
                    "grade_id": "cell-904a3a62702dde43",
                    "locked": true,
                    "schema_version": 3,
                    "solution": false,
                    "task": false
                }
            },
            "outputs": [],
            "source": [
                "ANSWER_KEY['df_without_missing_rows'].boxplot(figsize=(15,5))\n",
                "plt.xticks(rotation=90);"
            ]
        },
        {
            "cell_type": "markdown",
            "metadata": {
                "deletable": false,
                "editable": false,
                "nbgrader": {
                    "grade": false,
                    "grade_id": "cell-4ee7e1bd75ea2d2d",
                    "locked": true,
                    "schema_version": 3,
                    "solution": false,
                    "task": false
                }
            },
            "source": [
                "Examining summary statistics could also highlight some issues with the data. For example, are the average values reasonable? what about the minimal and maximal values? "
            ]
        },
        {
            "cell_type": "code",
            "execution_count": 135,
            "metadata": {
                "deletable": false,
                "editable": false,
                "nbgrader": {
                    "grade": false,
                    "grade_id": "cell-0c6b38d20564eb06",
                    "locked": true,
                    "schema_version": 3,
                    "solution": false,
                    "task": false
                }
            },
            "outputs": [],
            "source": [
                "ANSWER_KEY['df_without_missing_rows'].describe()"
            ]
        },
        {
            "cell_type": "markdown",
            "metadata": {
                "deletable": false,
                "editable": false,
                "nbgrader": {
                    "grade": false,
                    "grade_id": "cell-e50fd5b800f6c31e",
                    "locked": true,
                    "schema_version": 3,
                    "solution": false,
                    "task": false
                }
            },
            "source": [
                "As a side note, these values can be also computed manually using the package numpy:"
            ]
        },
        {
            "cell_type": "code",
            "execution_count": 136,
            "metadata": {
                "deletable": false,
                "editable": false,
                "nbgrader": {
                    "grade": false,
                    "grade_id": "cell-74569667ec2a0e76",
                    "locked": true,
                    "schema_version": 3,
                    "solution": false,
                    "task": false
                }
            },
            "outputs": [],
            "source": [
                "np.mean(df_without_missing_rows['ExternalRiskEstimate']) # think about the syntax of this code, break down every part of it"
            ]
        },
        {
            "cell_type": "code",
            "execution_count": 137,
            "metadata": {
                "deletable": false,
                "editable": false,
                "nbgrader": {
                    "grade": false,
                    "grade_id": "cell-611d530de7281767",
                    "locked": true,
                    "schema_version": 3,
                    "solution": false,
                    "task": false
                }
            },
            "outputs": [],
            "source": [
                "np.std(df_without_missing_rows['ExternalRiskEstimate'])"
            ]
        },
        {
            "cell_type": "code",
            "execution_count": 138,
            "metadata": {
                "deletable": false,
                "editable": false,
                "nbgrader": {
                    "grade": false,
                    "grade_id": "cell-66120a9b460a329f",
                    "locked": true,
                    "schema_version": 3,
                    "solution": false,
                    "task": false
                }
            },
            "outputs": [],
            "source": [
                "np.min(df_without_missing_rows['ExternalRiskEstimate'])"
            ]
        },
        {
            "cell_type": "code",
            "execution_count": 139,
            "metadata": {
                "deletable": false,
                "editable": false,
                "nbgrader": {
                    "grade": false,
                    "grade_id": "cell-3ff698a2ba2855cc",
                    "locked": true,
                    "schema_version": 3,
                    "solution": false,
                    "task": false
                }
            },
            "outputs": [],
            "source": [
                "np.max(df_without_missing_rows['ExternalRiskEstimate'])"
            ]
        },
        {
            "cell_type": "markdown",
            "metadata": {
                "deletable": false,
                "editable": false,
                "nbgrader": {
                    "grade": false,
                    "grade_id": "cell-a5c1111557485556",
                    "locked": true,
                    "schema_version": 3,
                    "solution": false,
                    "task": false
                }
            },
            "source": [
                "### (q4)\n",
                "Finally, let's compare the two groups of \"Bad\" and \"Good\" customers, defined based on whether or not they were late on their payments. This information about each customer is provided in the column RiskPerformance.  \n",
                "\n",
                "Compute the average value of each feature for every group of customers. That is, create a data frame called `df_avg_feature_value_per_group` where rows correspond to features, columns to Bad and Good, and the values in the data frame hold the average value for a pair of feature and risk performance. \n",
                "\n",
                "Hint: you may find the function `.groupby()` and `.T` useful."
            ]
        },
        {
            "cell_type": "code",
            "execution_count": 140,
            "metadata": {
                "nbgrader": {
                    "grade": false,
                    "grade_id": "cell-c5d7bebadebc9cez",
                    "locked": false,
                    "schema_version": 3,
                    "solution": true,
                    "task": false
                }
            },
            "outputs": [],
            "source": [
                "df_avg_feature_value_per_group = df_without_missing_rows.groupby('RiskPerformance').mean().T\n",
                "###\n",
                "### YOUR CODE HERE\n",
                "###\n"
            ]
        },
        {
            "cell_type": "code",
            "execution_count": 141,
            "metadata": {
                "deletable": false,
                "editable": false,
                "nbgrader": {
                    "grade": true,
                    "grade_id": "part1-q4",
                    "locked": true,
                    "points": 1,
                    "schema_version": 3,
                    "solution": false,
                    "task": false
                }
            },
            "outputs": [],
            "source": [
                "### BEGIN TEST (DO NOT REMOVE CELL)\n",
                "sol = ANSWER_KEY['df_avg_feature_value_per_group']\n",
                "diff = sol.compare(df_avg_feature_value_per_group, keep_equal=False, align_axis=0)\n",
                "assert(len(diff)==0), 'testing df_avg_feature_value_per_group'\n",
                "### END TEST "
            ]
        },
        {
            "cell_type": "code",
            "execution_count": 142,
            "metadata": {
                "deletable": false,
                "editable": false,
                "nbgrader": {
                    "grade": false,
                    "grade_id": "cell-0eacabee2dc97c9b",
                    "locked": true,
                    "schema_version": 3,
                    "solution": false,
                    "task": false
                }
            },
            "outputs": [],
            "source": [
                "ANSWER_KEY['df_avg_feature_value_per_group'] # expected output"
            ]
        },
        {
            "cell_type": "markdown",
            "metadata": {
                "deletable": false,
                "editable": false,
                "nbgrader": {
                    "grade": false,
                    "grade_id": "cell-04854d5b3177302b",
                    "locked": true,
                    "schema_version": 3,
                    "solution": false,
                    "task": false
                }
            },
            "source": [
                "We see, for example, that customers with bad performance have on average smaller values of ExternalRiskEstimate and  MSinceOldestTradeOpen, which is consistent with the documentation (available in the Excel file `heloc_data_dictionary-2.xlsx`) that indicates that risk increases when these two values are smaller. "
            ]
        },
        {
            "cell_type": "markdown",
            "metadata": {
                "deletable": false,
                "editable": false,
                "nbgrader": {
                    "grade": false,
                    "grade_id": "cell-04a78ec24ee2ff9c",
                    "locked": true,
                    "schema_version": 3,
                    "solution": false,
                    "task": false
                }
            },
            "source": [
                "Let's quickly compute these values in a different way to check they are correct (mainly to exercise)"
            ]
        },
        {
            "cell_type": "code",
            "execution_count": 143,
            "metadata": {
                "deletable": false,
                "editable": false,
                "nbgrader": {
                    "grade": false,
                    "grade_id": "cell-2d3d02da90ee6516",
                    "locked": true,
                    "schema_version": 3,
                    "solution": false,
                    "task": false
                }
            },
            "outputs": [],
            "source": [
                "df_without_missing_rows[df_without_missing_rows['RiskPerformance']=='Bad'].mean(numeric_only=True) # think about the syntax of this code"
            ]
        },
        {
            "cell_type": "markdown",
            "metadata": {
                "deletable": false,
                "editable": false,
                "nbgrader": {
                    "grade": false,
                    "grade_id": "cell-a31e421e4a6b064f",
                    "locked": true,
                    "schema_version": 3,
                    "solution": false,
                    "task": false
                }
            },
            "source": [
                "# Summary\n",
                "\n",
                "In this assignment we performed a basic exploratory data analysis. We loaded the data, examined the various features, their distributions, and the frequency of missing values. To carry out this analysis we mostly relied on pandas, which is often what happens in practice. However, at times we may need to write custom code that iterates over files or objects and uses flexible logic, for which your general programming skills would be useful. "
            ]
        },
        {
            "cell_type": "code",
            "execution_count": 144,
            "metadata": {
                "deletable": false,
                "editable": false,
                "nbgrader": {
                    "grade": true,
                    "grade_id": "cell-56a7f83815146078",
                    "locked": true,
                    "points": 0,
                    "schema_version": 3,
                    "solution": false,
                    "task": false
                }
            },
            "outputs": [],
            "source": [
                "### BEGIN TEST (DO NOT REMOVE CELL)\n",
                "if GENERATE_ANSWER_KEY: \n",
                "    with open(ANSWER_KEY_FILE_NAME, \"wb\") as f:\n",
                "        pickle.dump( ANSWER_KEY,  f)\n",
                "### END TEST "
            ]
        },
        {
            "cell_type": "markdown",
            "metadata": {
                "deletable": false,
                "editable": false,
                "nbgrader": {
                    "grade": false,
                    "grade_id": "cell-de4459e60753beb5",
                    "locked": true,
                    "schema_version": 3,
                    "solution": false,
                    "task": false
                },
                "slideshow": {
                    "slide_type": ""
                },
                "tags": []
            },
            "source": []
        },
        {
            "cell_type": "code",
            "execution_count": null,
            "metadata": {},
            "outputs": [],
            "source": []
        }
    ],
    "metadata": {
        "celltoolbar": "Create Assignment",
        "kernelspec": {
            "display_name": "Python 3 [3.10]",
            "language": "python",
            "name": "python3"
        },
        "language_info": {
            "codemirror_mode": {
                "name": "ipython",
                "version": 3
            },
            "file_extension": ".py",
            "mimetype": "text/x-python",
            "name": "python",
            "nbconvert_exporter": "python",
            "pygments_lexer": "ipython3",
            "version": "3.10.2"
        },
        "latex_envs": {
            "LaTeX_envs_menu_present": true,
            "autoclose": false,
            "autocomplete": true,
            "bibliofile": "biblio.bib",
            "cite_by": "apalike",
            "current_citInitial": 1,
            "eqLabelWithNumbers": true,
            "eqNumInitial": 1,
            "hotkeys": {
                "equation": "Ctrl-E",
                "itemize": "Ctrl-I"
            },
            "labels_anchors": false,
            "latex_user_defs": false,
            "report_style_numbering": false,
            "user_envs_cfg": false
        },
        "toc": {
            "base_numbering": 1,
            "nav_menu": [],
            "number_sections": false,
            "sideBar": true,
            "skip_h1_title": false,
            "title_cell": "Table of Contents",
            "title_sidebar": "Contents",
            "toc_cell": false,
            "toc_position": {
                "height": "calc(100% - 180px)",
                "left": "10px",
                "top": "150px",
                "width": "325px"
            },
            "toc_section_display": true,
            "toc_window_display": true
        },
        "toc-autonumbering": true,
        "toc-showcode": false
    },
    "nbformat": 4,
    "nbformat_minor": 4
}